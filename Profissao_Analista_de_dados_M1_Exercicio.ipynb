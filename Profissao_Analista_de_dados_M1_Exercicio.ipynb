{
  "nbformat": 4,
  "nbformat_minor": 0,
  "metadata": {
    "colab": {
      "provenance": [],
      "toc_visible": true,
      "include_colab_link": true
    },
    "kernelspec": {
      "name": "python3",
      "display_name": "Python 3"
    }
  },
  "cells": [
    {
      "cell_type": "markdown",
      "metadata": {
        "id": "view-in-github",
        "colab_type": "text"
      },
      "source": [
        "<a href=\"https://colab.research.google.com/github/denys-dias/EBAC-Curso-de-Analista-de-Dados/blob/main/Profissao_Analista_de_dados_M1_Exercicio.ipynb\" target=\"_parent\"><img src=\"https://colab.research.google.com/assets/colab-badge.svg\" alt=\"Open In Colab\"/></a>"
      ]
    },
    {
      "cell_type": "markdown",
      "metadata": {
        "id": "KJqp9AANOCtf"
      },
      "source": [
        "<img src=\"https://raw.githubusercontent.com/andre-marcos-perez/ebac-course-utils/main/media/logo/newebac_logo_black_half.png\" alt=\"ebac-logo\">\n",
        "\n",
        "---\n",
        "\n",
        "# **Módulo** | Python: Variáveis & Tipos de Dados\n",
        "Caderno de **Exercícios**<br>\n",
        "Professor [André Perez](https://www.linkedin.com/in/andremarcosperez/)\n",
        "\n",
        "---"
      ]
    },
    {
      "cell_type": "markdown",
      "metadata": {
        "id": "d9jDtUbDOE1-"
      },
      "source": [
        "# **Tópicos**\n",
        "\n",
        "<ol type=\"1\">\n",
        "  <li>Introdução ao Google Colab;</li>\n",
        "  <li>Variáveis;</li>\n",
        "  <li>Números;</li>\n",
        "  <li><i>Strings;</i></li>\n",
        "  <li>Boleanos.</li>\n",
        "</ol>"
      ]
    },
    {
      "cell_type": "markdown",
      "metadata": {
        "id": "SmoHgt-lwkpD"
      },
      "source": [
        "---"
      ]
    },
    {
      "cell_type": "markdown",
      "metadata": {
        "id": "GABI6OW8OfQ2"
      },
      "source": [
        "# **Exercícios**"
      ]
    },
    {
      "cell_type": "markdown",
      "metadata": {
        "id": "muD1vxozykSC"
      },
      "source": [
        "## 1\\. Google Colab"
      ]
    },
    {
      "cell_type": "markdown",
      "metadata": {
        "id": "ahrFfCuBxJKs"
      },
      "source": [
        "Crie uma célula de código que escreva o texto \"Olá mundo!\", utilize o comando `print`."
      ]
    },
    {
      "cell_type": "code",
      "source": [
        "#Posso fazer direto ou atribuindo a uma variável\n",
        "\n",
        "print('Olá, Mundo!')#Direto\n",
        "\n",
        "frase = 'Olá, Mundo!'#Variável\n",
        "#print(frase)"
      ],
      "metadata": {
        "colab": {
          "base_uri": "https://localhost:8080/"
        },
        "id": "7JGOsHLElNBr",
        "outputId": "739d30e8-6085-4ee3-a901-75d72d7b6208"
      },
      "execution_count": null,
      "outputs": [
        {
          "output_type": "stream",
          "name": "stdout",
          "text": [
            "Olá, Mundo\n"
          ]
        }
      ]
    },
    {
      "cell_type": "markdown",
      "metadata": {
        "id": "zMN1Q3jdwoJm"
      },
      "source": [
        "---"
      ]
    },
    {
      "cell_type": "markdown",
      "metadata": {
        "id": "tFYOPLS3xiwe"
      },
      "source": [
        "## 2\\. Números"
      ]
    },
    {
      "cell_type": "markdown",
      "metadata": {
        "id": "O2G9gt7tx2c-"
      },
      "source": [
        "Preencha as células de código para preencher os valores de (A), (B) e (C) na tabela de ticket médio abaixo:\n",
        "\n",
        "<br>\n",
        "\n",
        "| Dia   | Valor Total Vendas | Qtd Total Vendas | Ticket Medio |\n",
        "|-------|--------------------|------------------|--------------|\n",
        "| 19/01 | (A)                | 3                | 320.52       |\n",
        "| 20/01 | 834.47             | (B)              | 119.21       |\n",
        "| 23/01 | 15378.12           | 5                | (C)          |"
      ]
    },
    {
      "cell_type": "code",
      "metadata": {
        "id": "nsrKH9EizNRD",
        "colab": {
          "base_uri": "https://localhost:8080/"
        },
        "outputId": "06068acf-ed8b-4658-aa10-4f68934701c9"
      },
      "source": [
        "# 19/01\n",
        "qtd_total_vendas_1 = 3\n",
        "ticket_medio_1 = 320.52\n",
        "\n",
        "# 20/01\n",
        "valor_total_vendas_2 = 834.47\n",
        "ticket_medio_2 = 119.21\n",
        "\n",
        "# 23/01\n",
        "valor_total_vendas_3 = 15378.12\n",
        "qtd_total_vendas_3 = 5\n",
        "\n",
        "# Calcule aqui:\n",
        "A = valor_total_vendas_1 = qtd_total_vendas_1 * ticket_medio_1\n",
        "B = valor_total_vendas_2 / ticket_medio_2\n",
        "C = valor_total_vendas_3 / qtd_total_vendas_3\n",
        "\n",
        "# Print\n",
        "print('(A) = ', A) # Valor total de vendas\n",
        "print('(B) = ', B) # Quantidade de vendas\n",
        "print('(C) = ', C) # Ticket médio"
      ],
      "execution_count": null,
      "outputs": [
        {
          "output_type": "stream",
          "name": "stdout",
          "text": [
            "(A) =  961.56\n",
            "(B) =  7.000000000000001\n",
            "(C) =  3075.6240000000003\n"
          ]
        }
      ]
    },
    {
      "cell_type": "markdown",
      "metadata": {
        "id": "yUJ6kdony6Pr"
      },
      "source": [
        "## 3\\. Strings"
      ]
    },
    {
      "cell_type": "markdown",
      "metadata": {
        "id": "KDuZpg-5zCvO"
      },
      "source": [
        "Aplique três métodos distintos na *string* abaixo, você pode conferir alguns métodos neste [link](https://www.w3schools.com/python/python_ref_string.asp):\n",
        "    ***Depois*** faça:\n",
        "\n",
        "*   Substitua todas as vírgulas por barras /\n",
        "\n",
        "*   Deixe a string em maiúscula\n",
        "*   Encontre a posição da palavra \"moinho\" na string"
      ]
    },
    {
      "cell_type": "code",
      "metadata": {
        "id": "k9zbyf7BzjKj",
        "colab": {
          "base_uri": "https://localhost:8080/"
        },
        "outputId": "8e69b431-905e-49e7-b24b-1c5df2939bb2"
      },
      "source": [
        "cancao = 'Roda mundo, roda gigante, roda moinho, roda pião.'\n",
        "\n",
        "# Substitua todas as vírgulas por barras /\n",
        "result1 = cancao.replace(\",\", \"/\")\n",
        "print(result1)\n",
        "\n",
        "# Deixe a string em maiúscula\n",
        "result2 = cancao.upper()\n",
        "print(result2)\n",
        "\n",
        "# Encontre a posição da palavra \"moinho\" na string\n",
        "result3 = cancao.find(\"moinho\")\n",
        "print('A posição da palavra \"moinho\" é: ' + str(result3))"
      ],
      "execution_count": null,
      "outputs": [
        {
          "output_type": "stream",
          "name": "stdout",
          "text": [
            "Roda mundo/ roda gigante/ roda moinho/ roda pião.\n",
            "RODA MUNDO, RODA GIGANTE, RODA MOINHO, RODA PIÃO.\n",
            "A posição da palavra \"moinho\" é: 31\n"
          ]
        }
      ]
    },
    {
      "cell_type": "markdown",
      "metadata": {
        "id": "guZMHXVq0FnC"
      },
      "source": [
        "Extraia da string abaixo o valor da taxa **selic** na variável `selic` e o valor do **ano** na variavel `ano`. Imprima os valores na tela."
      ]
    },
    {
      "cell_type": "code",
      "metadata": {
        "id": "cbx_P4IQ0agK",
        "colab": {
          "base_uri": "https://localhost:8080/"
        },
        "outputId": "d2c6bb07-cb6e-408b-e363-91c2de7bc2ee"
      },
      "source": [
        "noticia = 'Selic vai a 2,75% e supera expectativas é a primeira alta em 6 anos.'#String\n",
        "\n",
        "print(len(noticia))# Através da função len, percorro toda a string e conto os caracteres\n",
        "print(noticia.find(\"2\"))#Acho a posição da selic\n",
        "selic = noticia[12:16]#Atribuo então este valor a variável selic\n",
        "#print(selic) Caso queira eu posso imprimir ela\n",
        "print(noticia.find(\"6\"))#Acho a posição do ano\n",
        "ano = noticia[61]#Atribuo então este valor a variável ano\n",
        "#print(ano) Caso queira eu posso imprimir ela\n",
        "\n",
        "print(\"A taxa Selic é de: \" + selic + \" e a primeira alta em \" + ano )"
      ],
      "execution_count": null,
      "outputs": [
        {
          "output_type": "stream",
          "name": "stdout",
          "text": [
            "68\n",
            "12\n",
            "61\n",
            "A taxa Selic é de: 2,75 e a primeira alta em 6\n"
          ]
        }
      ]
    },
    {
      "cell_type": "markdown",
      "metadata": {
        "id": "wWzbu-OC0z3L"
      },
      "source": [
        "---"
      ]
    },
    {
      "cell_type": "markdown",
      "metadata": {
        "id": "no8w_Ati01xP"
      },
      "source": [
        "## 4\\. Booleanos"
      ]
    },
    {
      "cell_type": "markdown",
      "metadata": {
        "id": "D_0tC3SC099N"
      },
      "source": [
        "Utilize a tabela da verdade para responder: qual o valor da variável x?"
      ]
    },
    {
      "cell_type": "code",
      "metadata": {
        "id": "XwIEbxf91SpU",
        "colab": {
          "base_uri": "https://localhost:8080/"
        },
        "outputId": "8f15a019-7c7a-429b-a790-9f5ccd9b9806"
      },
      "source": [
        "a = False\n",
        "b = True\n",
        "\n",
        "x = not a & b\n",
        "print(x)"
      ],
      "execution_count": null,
      "outputs": [
        {
          "output_type": "stream",
          "name": "stdout",
          "text": [
            "True\n"
          ]
        }
      ]
    }
  ]
}