{
  "nbformat": 4,
  "nbformat_minor": 0,
  "metadata": {
    "colab": {
      "provenance": [],
      "toc_visible": true,
      "include_colab_link": true
    },
    "kernelspec": {
      "name": "python3",
      "display_name": "Python 3"
    }
  },
  "cells": [
    {
      "cell_type": "markdown",
      "metadata": {
        "id": "view-in-github",
        "colab_type": "text"
      },
      "source": [
        "<a href=\"https://colab.research.google.com/github/denys-dias/EBAC-Curso-de-Analista-de-Dados/blob/main/Profissao_Analista_de_dados_M4_Exercicio.ipynb\" target=\"_parent\"><img src=\"https://colab.research.google.com/assets/colab-badge.svg\" alt=\"Open In Colab\"/></a>"
      ]
    },
    {
      "cell_type": "markdown",
      "metadata": {
        "id": "KJqp9AANOCtf"
      },
      "source": [
        "<img src=\"https://raw.githubusercontent.com/andre-marcos-perez/ebac-course-utils/main/media/logo/newebac_logo_black_half.png\" alt=\"ebac-logo\">\n",
        "\n",
        "---\n",
        "\n",
        "# **Módulo** | Python: Arquivos & Funções\n",
        "Caderno de **Aula**<br>\n",
        "Professor [André Perez](https://www.linkedin.com/in/andremarcosperez/)\n",
        "\n",
        "---"
      ]
    },
    {
      "cell_type": "markdown",
      "source": [
        "Extraia os valores da coluna \"valor_venda\" e armazena em uma lista na variável valor_venda .\n",
        "\n",
        "Obs: Trata-se de um arquivo e preciso abri-lo primeiramente"
      ],
      "metadata": {
        "id": "vMXYzezOii1o"
      }
    },
    {
      "cell_type": "markdown",
      "source": [
        "Siga os passos apresentados pelas linhas de comentários no editor de código."
      ],
      "metadata": {
        "id": "ObnN6GYeij0h"
      }
    },
    {
      "cell_type": "markdown",
      "source": [
        "Imprima a variável valor_venda utilizando a função print()"
      ],
      "metadata": {
        "id": "yqlTfQoIimbS"
      }
    },
    {
      "cell_type": "code",
      "source": [
        "valor_venda = []\n",
        "\n",
        "with open(file='../../data/carros.csv', mode='r', encoding='utf8') as arquivo:\n",
        "\t# lê o cabeçalho\n",
        "\tlinha = arquivo.readline()# lê toda a linha até o /n\n",
        "\n",
        "\t# lê a primeira linha\n",
        "\tlinha = arquivo.readline()\n",
        "\n",
        "\twhile linha:\n",
        "\t\t# quebra a string nas virgulas e salva os resultados em uma lista\n",
        "\t\tlinha_separada = linha.split(sep = ',')\n",
        "\n",
        "\t\t# seleciona o segundo elemento da lista\n",
        "\t\tsegundo_elemento = linha_separada[1]\n",
        "\n",
        "\t\t#pois queremos o valor_venda que é o segundo elemento\n",
        "\n",
        "\t\t# salva o valor na lista de valor_venda\n",
        "\t\tvalor_venda.append(segundo_elemento)\n",
        "\n",
        "\t\t# lê uma nova linha, se a linha não existir, salva o valor None\n",
        "\t\tlinha = arquivo.readline()\n",
        "\n",
        "\n",
        "\tprint(valor_venda)"
      ],
      "metadata": {
        "id": "PkYfvO7yjZEJ"
      },
      "execution_count": null,
      "outputs": []
    },
    {
      "cell_type": "markdown",
      "source": [
        "id,valor_venda,valor_manutencao,portas,pessoas,porta_malas\n",
        "1,vhigh,med,2,2,small\n",
        "2,med,vhigh,2,2,small\n",
        "3,low,vhigh,2,2,small\n",
        "4,low,high,2,2,small\n",
        "5,low,high,2,2,small\n",
        "6,low,high,4,4,big\n",
        "7,low,high,4,4,big\n",
        "8,low,med,2,2,small\n",
        "9,low,med,2,2,small\n",
        "10,low,med,2,2,small\n",
        "11,low,med,4,4,big\n",
        "12,low,low,2,2,small\n",
        "13,low,low,4,4,small\n",
        "14,low,low,4,4,med"
      ],
      "metadata": {
        "id": "KBDpB1g6kBUS"
      }
    },
    {
      "cell_type": "markdown",
      "source": [
        "Complete a função para extração os valores de valor_venda e que retorne uma lista com os valores."
      ],
      "metadata": {
        "id": "DkGHujqCkQT5"
      }
    },
    {
      "cell_type": "markdown",
      "source": [
        "A função deve ter como parâmetros nome_arquivo e indice_coluna."
      ],
      "metadata": {
        "id": "a7R7ZSZkkSOB"
      }
    },
    {
      "cell_type": "markdown",
      "source": [
        "Siga os passos apresentados pelas linhas de comentários no editor de código."
      ],
      "metadata": {
        "id": "gAclD6QFkUzA"
      }
    },
    {
      "cell_type": "code",
      "source": [
        "import os\n",
        "\n",
        "def extrai_coluna_csv(nome_arquivo: str, indice_coluna: int):\n",
        "\tcoluna = []\n",
        "\n",
        "\t# leia o arquivo com o comando 'with' utilizando o parametro 'nome_arquivo'\n",
        "\tcaminho_arquivo = '../../data/' + nome_arquivo\n",
        "\twith open(caminho_arquivo, mode = 'r', encoding = 'utf8')as arquivo:\n",
        "\t\tlinha = arquivo.readline()\n",
        "\t\tlinha = arquivo.readline()\n",
        "\t\twhile linha:\n",
        "\t\t\tlinha_separada = linha.split(sep=',')\n",
        "\t\t\telemento = linha_separada[indice_coluna]\n",
        "\t\t\telemento = elemento.replace(\"\\n\", ' ')\n",
        "\t\t\tcoluna.append(elemento)\n",
        "\t\t\tlinha = arquivo.readline()\n",
        "\n",
        "\t# O caminho para o arquivo deve começar com '../../data/'\n",
        "\t# extraia a coluna do arquivo utilizando o parametro 'indice_coluna'\n",
        "\treturn coluna\n",
        "\n",
        "valor_manutencao = extrai_coluna_csv(nome_arquivo='carros.csv', indice_coluna=2)\n",
        "print(valor_manutencao)"
      ],
      "metadata": {
        "id": "HwosQk5EkaVh"
      },
      "execution_count": null,
      "outputs": []
    },
    {
      "cell_type": "markdown",
      "source": [
        "Complete a função para extração os valores de valor_venda e que retorne uma lista com os valores.\n",
        "A função deve ter como parâmetros nome_arquivo, indice_coluna, tipo_dado.\n",
        "O parâmetro tipo_dado deve aceitar como argumento os valores \"str\" ou \"int\".\n",
        "Siga os passos apresentados pelas linhas de comentários no editor de código."
      ],
      "metadata": {
        "id": "Qw0EG9hpkmOa"
      }
    },
    {
      "cell_type": "code",
      "source": [
        "import os\n",
        "\n",
        "def extrai_coluna_csv(nome_arquivo: str, indice_coluna: int, tipo_dado: str):\n",
        "\tcoluna = []\n",
        "\n",
        "\t# leia o arquivo com o comando 'with' utilizando o parametro 'nome_arquivo'.\n",
        "    # O caminho para o arquivo deve começar com '../../data/'\n",
        "\tcaminho = '../../data/' + nome_arquivo\n",
        "\twith open (caminho, mode='r', encoding='utf8') as arquivo:\n",
        "\t\tlinha = arquivo.readline()\n",
        "\t\tlinha = arquivo.readline()\n",
        "\t\twhile linha:\n",
        "\t\t\tseparar = linha.split(sep=',')\n",
        "\t\t\telemento = separar[indice_coluna]\n",
        "\t\t\tif tipo_dado == 'str':\n",
        "\t\t\t\tcoluna.append(str(elemento))\n",
        "\t\t\telif tipo_dado == 'int':\n",
        "\t\t\t\tcoluna.append(int(elemento))\n",
        "\t\t\tlinha = arquivo.readline()\n",
        "\t# extraia a coluna do arquivo utilizando o parametro 'indice_coluna'\n",
        "\t# use a estrutura de decisão if/elif/else para fazer a conversão do tipo de dados utilizando o parametro 'tipo_dado'\n",
        "\n",
        "\treturn coluna\n",
        "\n",
        "valor_manutencao = extrai_coluna_csv(nome_arquivo='carros.csv', indice_coluna=2, tipo_dado='str')\n",
        "print(valor_manutencao)"
      ],
      "metadata": {
        "id": "C90AJmsnko2K"
      },
      "execution_count": null,
      "outputs": []
    },
    {
      "cell_type": "markdown",
      "source": [
        "Complete a função para extrair as palavras de uma linha do arquivo txt em uma lista.\n",
        "Siga os passos apresentados pelas linhas de comentários no editor de código."
      ],
      "metadata": {
        "id": "p3QJ6jYnkwmI"
      }
    },
    {
      "cell_type": "code",
      "source": [
        "import os\n",
        "\n",
        "def extrai_linha_txt(nome_arquivo: str, numero_linha: int):\n",
        "\n",
        "\tpalavras_linha = []\n",
        "\tcaminho = \"../../data/\" + nome_arquivo\n",
        "\t# leia o arquivo com o comando 'with' utilizando o parametro 'nome_arquivo'. O caminho para o arquivo deve começar com \"../../data/\".\n",
        "\twith open(caminho, mode='r', encoding='utf8') as arquivo:\n",
        "\t# extraia a linha do arquivo utilizando o parametro 'numero_linha'\n",
        "\t\tfor linha in range(numero_linha):\n",
        "\t\t\tlinha = arquivo.readline()\n",
        "\t# quebre a linha em palavras com o comando split, note que o separador é um espaço ' '\n",
        "\t\t\tpalavras_linha = linha.split(' ')\n",
        "\n",
        "\treturn palavras_linha\n",
        "\n",
        "linha10 = extrai_linha_txt(nome_arquivo='musica.txt', numero_linha=10)\n",
        "print(linha10)"
      ],
      "metadata": {
        "id": "4iVgseS_k2kh"
      },
      "execution_count": null,
      "outputs": []
    },
    {
      "cell_type": "markdown",
      "source": [
        "Roda Viva\n",
        "Chico Buarque\n",
        "\n",
        "Tem dias que a gente se sente\n",
        "Como quem partiu ou morreu\n",
        "A gente estancou de repente\n",
        "Ou foi o mundo então que cresceu\n",
        "A gente quer ter voz ativa\n",
        "No nosso destino mandar\n",
        "Mas eis que chega a roda viva\n",
        "E carrega o destino pra lá\n",
        "\n",
        "Roda mundo, roda-gigante\n",
        "Roda moinho, roda pião\n",
        "\n",
        "O tempo rodou num instante\n",
        "Nas voltas do meu coração\n",
        "A gente vai contra a corrente\n",
        "Até não poder resistir\n",
        "Na volta do barco é que sente\n",
        "O quanto deixou de cumprir\n",
        "Faz tempo que a gente cultiva\n",
        "A mais linda roseira que há\n",
        "Mas eis que chega a roda viva\n",
        "E carrega a roseira pra lá\n",
        "\n",
        "Roda mundo, roda-gigante\n",
        "Roda moinho, roda pião"
      ],
      "metadata": {
        "id": "kJ6grUBjk-yj"
      }
    }
  ]
}