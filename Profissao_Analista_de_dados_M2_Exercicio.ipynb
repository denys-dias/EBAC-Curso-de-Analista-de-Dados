{
  "nbformat": 4,
  "nbformat_minor": 0,
  "metadata": {
    "colab": {
      "provenance": [],
      "toc_visible": true,
      "include_colab_link": true
    },
    "kernelspec": {
      "name": "python3",
      "display_name": "Python 3"
    }
  },
  "cells": [
    {
      "cell_type": "markdown",
      "metadata": {
        "id": "view-in-github",
        "colab_type": "text"
      },
      "source": [
        "<a href=\"https://colab.research.google.com/github/denys-dias/EBAC-Curso-de-Analista-de-Dados/blob/main/Profissao_Analista_de_dados_M2_Exercicio.ipynb\" target=\"_parent\"><img src=\"https://colab.research.google.com/assets/colab-badge.svg\" alt=\"Open In Colab\"/></a>"
      ]
    },
    {
      "cell_type": "markdown",
      "metadata": {
        "id": "KJqp9AANOCtf"
      },
      "source": [
        "<img src=\"https://raw.githubusercontent.com/andre-marcos-perez/ebac-course-utils/main/media/logo/newebac_logo_black_half.png\" alt=\"ebac-logo\">\n",
        "\n",
        "---\n",
        "\n",
        "# **Módulo 02** | Python: Laboratório: Módulo de Exercício 2\n",
        "Caderno de **Aula**<br>\n",
        "Professor [André Perez](https://www.linkedin.com/in/andremarcosperez/)\n",
        "\n",
        "---"
      ]
    },
    {
      "cell_type": "markdown",
      "source": [
        "1. Crie uma lista chamada filmes com o nome dos 10 primeiros filmes mais bem avaliados no site no IMDB utilizando a seguinte estrutura: filmes = [...]"
      ],
      "metadata": {
        "id": "PDk0BFm9aeTK"
      }
    },
    {
      "cell_type": "code",
      "source": [
        "filmes = ['Um Sonho de Liberdade','O Poderoso Chefão','Batman: O Cavaleiro das Trevas','O Poderoso Chefão II','12 Homens e uma Sentença','A Lista de Schindler','O Senhor dos Anéis: O Retorno do Rei','Pulp Fiction: Tempo de Violência','O Senhor dos Anéis: A Sociedade do Anel','Três Homens em Conflito']\n",
        "#Lista com o título dos top 10"
      ],
      "metadata": {
        "id": "p57XK_vbaggB"
      },
      "execution_count": 1,
      "outputs": []
    },
    {
      "cell_type": "markdown",
      "source": [
        "2. Simule a movimentação do ranking. Para isso, utilize os métodos insert e pop para trocar a posição do primeiro e do segundo filme da lista."
      ],
      "metadata": {
        "id": "SoTE9-ZKa1z6"
      }
    },
    {
      "cell_type": "code",
      "source": [
        "print(len(filmes))#tamanho da minha lista\n",
        "print('Filme na primeira posição no momento: ' + filmes[0])\n",
        "print('Filme na segunda posição no momento: ' + filmes[1])\n",
        "\n",
        "#trocando as posições utilizando os métodos insert e pop\n",
        "filmes.pop(0) #primeiro eu removo\n",
        "filmes.insert(0, 'O Poderoso Chefão')#depois eu adiciono\n",
        "print('Filme na primeira posição agora ' + filmes[0])\n",
        "filmes.pop(1)#primeiro eu removo\n",
        "filmes.insert(1,'Um Sonho de Liberdade')#depois eu adiciono\n",
        "print('Filme na segunda posição agora ' + filmes[1])"
      ],
      "metadata": {
        "colab": {
          "base_uri": "https://localhost:8080/"
        },
        "id": "ihSyeaqqa9Bq",
        "outputId": "ad9856ff-b57d-412c-e7e3-6cfb43d7e7b8"
      },
      "execution_count": 2,
      "outputs": [
        {
          "output_type": "stream",
          "name": "stdout",
          "text": [
            "10\n",
            "Filme na primeira posição no momento Um Sonho de Liberdade\n",
            "Filme na segunda posição no momento O Poderoso Chefão\n",
            "Filme na primeira posição agora O Poderoso Chefão\n",
            "Filme na segunda posição agora Um Sonho de Liberdade\n"
          ]
        }
      ]
    },
    {
      "cell_type": "markdown",
      "source": [
        "3. Imprima o resultado."
      ],
      "metadata": {
        "id": "Zs7LPN1ubS-p"
      }
    },
    {
      "cell_type": "code",
      "source": [
        "print(filmes)"
      ],
      "metadata": {
        "colab": {
          "base_uri": "https://localhost:8080/"
        },
        "id": "YqDTHG7tbY5K",
        "outputId": "3fe58c95-f407-45ea-ec39-6a1680b905fd"
      },
      "execution_count": 3,
      "outputs": [
        {
          "output_type": "stream",
          "name": "stdout",
          "text": [
            "['O Poderoso Chefão', 'Um Sonho de Liberdade', 'Batman: O Cavaleiro das Trevas', 'O Poderoso Chefão II', '12 Homens e uma Sentença', 'A Lista de Schindler', 'O Senhor dos Anéis: O Retorno do Rei', 'Pulp Fiction: Tempo de Violência', 'O Senhor dos Anéis: A Sociedade do Anel', 'Três Homens em Conflito']\n"
          ]
        }
      ]
    }
  ]
}