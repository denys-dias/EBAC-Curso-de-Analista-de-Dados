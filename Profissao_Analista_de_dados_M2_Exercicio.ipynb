{
  "nbformat": 4,
  "nbformat_minor": 0,
  "metadata": {
    "colab": {
      "provenance": [],
      "toc_visible": true,
      "include_colab_link": true
    },
    "kernelspec": {
      "name": "python3",
      "display_name": "Python 3"
    }
  },
  "cells": [
    {
      "cell_type": "markdown",
      "metadata": {
        "id": "view-in-github",
        "colab_type": "text"
      },
      "source": [
        "<a href=\"https://colab.research.google.com/github/denys-dias/EBAC-Curso-de-Analista-de-Dados/blob/main/Profissao_Analista_de_dados_M2_Exercicio.ipynb\" target=\"_parent\"><img src=\"https://colab.research.google.com/assets/colab-badge.svg\" alt=\"Open In Colab\"/></a>"
      ]
    },
    {
      "cell_type": "markdown",
      "metadata": {
        "id": "KJqp9AANOCtf"
      },
      "source": [
        "<img src=\"https://raw.githubusercontent.com/andre-marcos-perez/ebac-course-utils/main/media/logo/newebac_logo_black_half.png\" alt=\"ebac-logo\">\n",
        "\n",
        "---\n",
        "\n",
        "# **Módulo 02** | Python: Laboratório: Módulo de Exercício 2\n",
        "Caderno de **Aula**<br>\n",
        "Professor [André Perez](https://www.linkedin.com/in/andremarcosperez/)\n",
        "\n",
        "---"
      ]
    },
    {
      "cell_type": "markdown",
      "source": [
        "1. Crie uma lista chamada filmes com o nome dos 10 primeiros filmes mais bem avaliados no site no IMDB utilizando a seguinte estrutura: filmes = [...]"
      ],
      "metadata": {
        "id": "PDk0BFm9aeTK"
      }
    },
    {
      "cell_type": "code",
      "source": [
        "filmes = ['Um Sonho de Liberdade','O Poderoso Chefão','Batman: O Cavaleiro das Trevas','O Poderoso Chefão II','12 Homens e uma Sentença','A Lista de Schindler','O Senhor dos Anéis: O Retorno do Rei','Pulp Fiction: Tempo de Violência','O Senhor dos Anéis: A Sociedade do Anel','Três Homens em Conflito']\n",
        "#Lista com o título dos top 10"
      ],
      "metadata": {
        "id": "p57XK_vbaggB"
      },
      "execution_count": 1,
      "outputs": []
    },
    {
      "cell_type": "markdown",
      "source": [
        "2. Simule a movimentação do ranking. Para isso, utilize os métodos insert e pop para trocar a posição do primeiro e do segundo filme da lista."
      ],
      "metadata": {
        "id": "SoTE9-ZKa1z6"
      }
    },
    {
      "cell_type": "code",
      "source": [
        "print(len(filmes))#tamanho da minha lista\n",
        "print('Filme na primeira posição no momento: ' + filmes[0])\n",
        "print('Filme na segunda posição no momento: ' + filmes[1])\n",
        "\n",
        "#trocando as posições utilizando os métodos insert e pop\n",
        "filmes.pop(0) #primeiro eu removo\n",
        "filmes.insert(0, 'O Poderoso Chefão')#depois eu adiciono\n",
        "print('Filme na primeira posição agora ' + filmes[0])\n",
        "filmes.pop(1)#primeiro eu removo\n",
        "filmes.insert(1,'Um Sonho de Liberdade')#depois eu adiciono\n",
        "print('Filme na segunda posição agora ' + filmes[1])"
      ],
      "metadata": {
        "colab": {
          "base_uri": "https://localhost:8080/"
        },
        "id": "ihSyeaqqa9Bq",
        "outputId": "ad9856ff-b57d-412c-e7e3-6cfb43d7e7b8"
      },
      "execution_count": 2,
      "outputs": [
        {
          "output_type": "stream",
          "name": "stdout",
          "text": [
            "10\n",
            "Filme na primeira posição no momento Um Sonho de Liberdade\n",
            "Filme na segunda posição no momento O Poderoso Chefão\n",
            "Filme na primeira posição agora O Poderoso Chefão\n",
            "Filme na segunda posição agora Um Sonho de Liberdade\n"
          ]
        }
      ]
    },
    {
      "cell_type": "markdown",
      "source": [
        "3. Imprima o resultado."
      ],
      "metadata": {
        "id": "Zs7LPN1ubS-p"
      }
    },
    {
      "cell_type": "code",
      "source": [
        "print(filmes)"
      ],
      "metadata": {
        "colab": {
          "base_uri": "https://localhost:8080/"
        },
        "id": "YqDTHG7tbY5K",
        "outputId": "3fe58c95-f407-45ea-ec39-6a1680b905fd"
      },
      "execution_count": 3,
      "outputs": [
        {
          "output_type": "stream",
          "name": "stdout",
          "text": [
            "['O Poderoso Chefão', 'Um Sonho de Liberdade', 'Batman: O Cavaleiro das Trevas', 'O Poderoso Chefão II', '12 Homens e uma Sentença', 'A Lista de Schindler', 'O Senhor dos Anéis: O Retorno do Rei', 'Pulp Fiction: Tempo de Violência', 'O Senhor dos Anéis: A Sociedade do Anel', 'Três Homens em Conflito']\n"
          ]
        }
      ]
    },
    {
      "cell_type": "markdown",
      "source": [
        "De alguma forma, obtivemos uma lista de filmes com valores duplicados."
      ],
      "metadata": {
        "id": "ZlShEsQpcsiI"
      }
    },
    {
      "cell_type": "code",
      "source": [
        "#Segue a lista informada\n",
        "filmes = [\n",
        "    'The Shawshank Redemption',\n",
        "    'The Godfather',\n",
        "    'The Dark Knight',\n",
        "    'The Godfather Part II',\n",
        "    'The Godfather',\n",
        "    '12 Angry Men',\n",
        "    'Schindler\\'s List',\n",
        "    'The Lord of the Rings: The Return of the King',\n",
        "    'Pulp Fiction',\n",
        "    'The Shawshank Redemption',\n",
        "    'The Lord of the Rings: The Fellowship of the Ring',\n",
        "    'The Good, the Bad and the Ugly',\n",
        "    'Pulp Fiction'\n",
        "]"
      ],
      "metadata": {
        "id": "Mk0LvwDyc4Sr"
      },
      "execution_count": 4,
      "outputs": []
    },
    {
      "cell_type": "markdown",
      "source": [
        "1. Utilize a conversão para conjunto e, em seguida, novamente para lista para remover os duplicados. Armazene o resultado de volta na variável filmes."
      ],
      "metadata": {
        "id": "JW1Qwb3Xc_PE"
      }
    },
    {
      "cell_type": "code",
      "source": [
        "print(type(filmes)) # É uma lista\n",
        "#Para resolver o exercício, vou converter para conjunto para remover as duplicatas e logo em seguida volto para lista\n",
        "filmes = list(set(filmes))"
      ],
      "metadata": {
        "colab": {
          "base_uri": "https://localhost:8080/"
        },
        "id": "i68medJ2dBLc",
        "outputId": "05f83779-832c-47b8-e1de-ddf7df9d8d13"
      },
      "execution_count": 5,
      "outputs": [
        {
          "output_type": "stream",
          "name": "stdout",
          "text": [
            "<class 'list'>\n"
          ]
        }
      ]
    },
    {
      "cell_type": "markdown",
      "source": [
        "2. Imprima o resultado."
      ],
      "metadata": {
        "id": "2q6RFmNXdWVB"
      }
    },
    {
      "cell_type": "code",
      "source": [
        "print(filmes)\n",
        "print(type(filmes))"
      ],
      "metadata": {
        "colab": {
          "base_uri": "https://localhost:8080/"
        },
        "id": "-bpQdOqkdaOO",
        "outputId": "789a5baa-4a12-4cf2-c089-32502e326674"
      },
      "execution_count": 6,
      "outputs": [
        {
          "output_type": "stream",
          "name": "stdout",
          "text": [
            "['The Lord of the Rings: The Return of the King', 'The Good, the Bad and the Ugly', 'The Shawshank Redemption', '12 Angry Men', 'The Dark Knight', 'The Godfather Part II', 'The Godfather', \"Schindler's List\", 'The Lord of the Rings: The Fellowship of the Ring', 'Pulp Fiction']\n",
            "<class 'list'>\n"
          ]
        }
      ]
    },
    {
      "cell_type": "markdown",
      "source": [
        "# DICIONÁRIOS"
      ],
      "metadata": {
        "id": "D5XHkHMKdxyF"
      }
    },
    {
      "cell_type": "markdown",
      "source": [
        "1. Neste momento, repita o passo a passo de criação da lista feita anteriormente: uma lista chamada filmes com o nome dos 10 primeiros filmes mais bem avaliados no site no IMDB."
      ],
      "metadata": {
        "id": "WrUhi7qjd1mC"
      }
    },
    {
      "cell_type": "code",
      "source": [
        "filmes = ['Um Sonho de Liberdade','O Poderoso Chefão','Batman: O Cavaleiro das Trevas','O Poderoso Chefão II','12 Homens e uma Sentença','A Lista de Schindler','O Senhor dos Anéis: O Retorno do Rei','Pulp Fiction: Tempo de Violência','O Senhor dos Anéis: A Sociedade do Anel','Três Homens em Conflito']"
      ],
      "metadata": {
        "id": "KHODW8mXeJZh"
      },
      "execution_count": 7,
      "outputs": []
    },
    {
      "cell_type": "markdown",
      "source": [
        "2. Adicione mais informações a essa estrutura de dados com o ano e a sinopse de cada filme."
      ],
      "metadata": {
        "id": "RyMFRTuueLS5"
      }
    },
    {
      "cell_type": "code",
      "source": [
        "filmes = []#Criando uma lista vazia para ir adicionando como o exercício pede\n",
        "\n",
        "detail_filme1 = {'nome' : 'Um Sonho de Liberdade', 'ano': 1994, 'sinopse' : 'Dois homens presos se reúnem ao longo de vários anos, encontrando consolo e eventual redenção através de atos de decência comum.'}\n",
        "filmes.append(detail_filme1)\n",
        "##\n",
        "detail_filme2 = {'nome': \"O Poderoso Chefão\" , 'ano': 1972 , 'sinopse': \"O patriarca idoso de uma dinastia do crime organizado transfere o controle de seu império clandestino para seu filho relutante.\"}\n",
        "filmes.append(detail_filme2)\n",
        "##\n",
        "detail_filme3 = {'nome': 'Batman: O Cavaleiro das Trevas', 'ano': 2008, 'sinopse':'Agora com a ajuda do tenente Jim Gordon e do promotor público Harvey Dent, Batman tem tudo para banir o crime de Gotham City de uma vez por todas. Mas em breve, os três serão vítimas do Coringa, que pretende lançar Gotham em uma anarquia.'}\n",
        "filmes.append(detail_filme3)\n",
        "##\n",
        "detail_filme4 = {'nome': 'O Poderoso Chefão II', 'ano': 1974, 'sinopse':'Em 1950, Michael Corleone, agora à frente da família, tenta expandir o negócio do crime a Las Vegas, Los Angeles e Cuba. Paralelamente, é revelada a história de Vito Corleone, e de como saiu da Sicília e chegou a Nova Iorque.'}\n",
        "filmes.append(detail_filme4)\n",
        "##\n",
        "detail_filme5 = {'nome': '12 Homens e uma Sentença', 'ano': 1957, 'sinopse':'O julgamento de um assassinato em Nova Iorque é frustrado por um único membro, cujo ceticismo força o júri a considerar cuidadosamente as evidências antes de dar o veredito.'}\n",
        "filmes.append(detail_filme5)\n",
        "##\n",
        "detail_filme6 = {'nome': 'A Lista de Schindler', 'ano': 1993, 'sinopse':'Na Polônia ocupada pelos alemães durante a Segunda Guerra Mundial, o industrial Oskar Schindler começa a ser preocupar com seus trabalhadores judeus depois de testemunhar sua perseguição pelos nazistas.'}\n",
        "filmes.append(detail_filme6)\n",
        "##\n",
        "detail_filme7 = {'nome': 'O Senhor dos Anéis: O Retorno do Rei', 'ano': 2003, 'sinopse':'Gandalf e Aragorn lideram o Mundo dos Homens contra o exército de Sauron para desviar o olhar de Frodo e Sam quando eles se aproximam á Montanha da Perdição com o Um Anel.'}\n",
        "filmes.append(detail_filme7)\n",
        "##\n",
        "detail_filme8 = {'nome': 'Pulp Fiction: Tempo de Violência', 'ano': 1994, 'sinopse':'As vidas de dois assassinos da máfia, um boxeador, um gângster e sua esposa, e um par de bandidos se entrelaçam em quatro histórias de violência e redenção.'}\n",
        "filmes.append(detail_filme8)\n",
        "##\n",
        "detail_filme9 = {'nome': 'O Senhor dos Anéis: A Sociedade do Anel', 'ano': 2001, 'sinopse':'Um manso hobbit do Condado e oito companheiros partem em uma jornada para destruir o poderoso Um Anel e salvar a Terra-média das Trevas.'}\n",
        "filmes.append(detail_filme9)\n",
        "##\n",
        "detail_filme10 = {'nome': 'Três Homens em Conflito', 'ano': 1966, 'sinopse':'Um impostor se junta com dois homens para encontrar fortuna num remoto cemitério.'}\n",
        "filmes.append(detail_filme10)\n",
        "##"
      ],
      "metadata": {
        "id": "DpijQyUPeTbG"
      },
      "execution_count": 8,
      "outputs": []
    },
    {
      "cell_type": "markdown",
      "source": [
        "3. Os elementos da lista filmes devem ser dicionários no seguinte formato:"
      ],
      "metadata": {
        "id": "NNnUO5yAe5mZ"
      }
    },
    {
      "cell_type": "code",
      "source": [
        "print(filmes)\n",
        "print(type(filmes))"
      ],
      "metadata": {
        "colab": {
          "base_uri": "https://localhost:8080/"
        },
        "id": "HlwSTxSse9sP",
        "outputId": "cdd54902-7f56-4586-e0af-1b9eb4c5685e"
      },
      "execution_count": 10,
      "outputs": [
        {
          "output_type": "stream",
          "name": "stdout",
          "text": [
            "[{'nome': 'Um Sonho de Liberdade', 'ano': 1994, 'sinopse': 'Dois homens presos se reúnem ao longo de vários anos, encontrando consolo e eventual redenção através de atos de decência comum.'}, {'nome': 'O Poderoso Chefão', 'ano': 1972, 'sinopse': 'O patriarca idoso de uma dinastia do crime organizado transfere o controle de seu império clandestino para seu filho relutante.'}, {'nome': 'Batman: O Cavaleiro das Trevas', 'ano': 2008, 'sinopse': 'Agora com a ajuda do tenente Jim Gordon e do promotor público Harvey Dent, Batman tem tudo para banir o crime de Gotham City de uma vez por todas. Mas em breve, os três serão vítimas do Coringa, que pretende lançar Gotham em uma anarquia.'}, {'nome': 'O Poderoso Chefão II', 'ano': 1974, 'sinopse': 'Em 1950, Michael Corleone, agora à frente da família, tenta expandir o negócio do crime a Las Vegas, Los Angeles e Cuba. Paralelamente, é revelada a história de Vito Corleone, e de como saiu da Sicília e chegou a Nova Iorque.'}, {'nome': '12 Homens e uma Sentença', 'ano': 1957, 'sinopse': 'O julgamento de um assassinato em Nova Iorque é frustrado por um único membro, cujo ceticismo força o júri a considerar cuidadosamente as evidências antes de dar o veredito.'}, {'nome': 'A Lista de Schindler', 'ano': 1993, 'sinopse': 'Na Polônia ocupada pelos alemães durante a Segunda Guerra Mundial, o industrial Oskar Schindler começa a ser preocupar com seus trabalhadores judeus depois de testemunhar sua perseguição pelos nazistas.'}, {'nome': 'O Senhor dos Anéis: O Retorno do Rei', 'ano': 2003, 'sinopse': 'Gandalf e Aragorn lideram o Mundo dos Homens contra o exército de Sauron para desviar o olhar de Frodo e Sam quando eles se aproximam á Montanha da Perdição com o Um Anel.'}, {'nome': 'Pulp Fiction: Tempo de Violência', 'ano': 1994, 'sinopse': 'As vidas de dois assassinos da máfia, um boxeador, um gângster e sua esposa, e um par de bandidos se entrelaçam em quatro histórias de violência e redenção.'}, {'nome': 'O Senhor dos Anéis: A Sociedade do Anel', 'ano': 2001, 'sinopse': 'Um manso hobbit do Condado e oito companheiros partem em uma jornada para destruir o poderoso Um Anel e salvar a Terra-média das Trevas.'}, {'nome': 'Três Homens em Conflito', 'ano': 1966, 'sinopse': 'Um impostor se junta com dois homens para encontrar fortuna num remoto cemitério.'}]\n",
            "<class 'list'>\n"
          ]
        }
      ]
    }
  ]
}