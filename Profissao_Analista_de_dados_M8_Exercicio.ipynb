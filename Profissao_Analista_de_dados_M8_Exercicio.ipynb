{
  "nbformat": 4,
  "nbformat_minor": 0,
  "metadata": {
    "colab": {
      "provenance": [],
      "toc_visible": true,
      "include_colab_link": true
    },
    "kernelspec": {
      "name": "python3",
      "display_name": "Python 3"
    }
  },
  "cells": [
    {
      "cell_type": "markdown",
      "metadata": {
        "id": "view-in-github",
        "colab_type": "text"
      },
      "source": [
        "<a href=\"https://colab.research.google.com/github/denys-dias/EBAC-Curso-de-Analista-de-Dados/blob/main/Profissao_Analista_de_dados_M8_Exercicio.ipynb\" target=\"_parent\"><img src=\"https://colab.research.google.com/assets/colab-badge.svg\" alt=\"Open In Colab\"/></a>"
      ]
    },
    {
      "cell_type": "markdown",
      "metadata": {
        "id": "KJqp9AANOCtf"
      },
      "source": [
        "<img src=\"https://raw.githubusercontent.com/andre-marcos-perez/ebac-course-utils/main/media/logo/newebac_logo_black_half.png\" alt=\"ebac-logo\">\n",
        "\n",
        "---\n",
        "\n",
        "# **Módulo** | Python: Módulos & Pacotes\n",
        "Caderno de **Aula**<br>\n",
        "Professor [André Perez](https://www.linkedin.com/in/andremarcosperez/)\n",
        "\n",
        "---"
      ]
    },
    {
      "cell_type": "markdown",
      "source": [
        "Neste exercício vamos utilizar a base de dados de ações da bolsa de valores dos EUA, a Dow Jones. Para processar os dados, vamos utilizar o pacote `pandas`. A documentação completa por ser encontrada neste link.\n",
        "Todas as bibliotecas já estão instaladas e o arquivo CSV já existe no caminho /data/dow_jones_index.csv\n",
        "Para tratar os dados, você deve:\n",
        "Filtrar os dados para utilizar apenas os dados da empresa Coca-cola (coluna stock com o valor KO).\n",
        "Selecionar os valores de abertura, fechamento, máximo e mínimo das ações da empresa Coca-Cola.\n",
        "Limpar as colunas, retirando o caractere $ e convertendo os valores de string para float.\n",
        "Certifique-se que o Dataframe final esteja armazenado na variável df_coke\n",
        "Obs: No Material de Apoio da aula existe um Jupyter Notebook com explicações e exemplos. Veja o material antes de resolver o exercício."
      ],
      "metadata": {
        "id": "px4xBiDgtFPQ"
      }
    },
    {
      "cell_type": "code",
      "source": [
        "import pandas as pd\n",
        "\n",
        "df = pd.read_csv('/data/dow_jones_index.csv')\n",
        "\n",
        "# Crie um Dataframe filtrado, selecionando as linha do dataframe original df em que a coluna stock é igual a KO.\n",
        "df_coke = df[df['stock'] == 'KO']\n",
        "\n",
        "# Selecione apenas as colunas de data e valores de ações: ['date', 'open', 'high', 'low', 'close'].\n",
        "df_coke = df_coke[['date', 'open', 'high', 'low', 'close']]\n",
        "# Limpe as colunas com o método `apply`, que permite a aplicação de uma função anônima (`lambda`) qualquer. A função `lambda` deve remover o caracter `$` e fazer a conversão do tipo de `str` para `float`.\n",
        "for col in ['open', 'high', 'low', 'close']:\n",
        "    df_coke[col]=df_coke[col].apply(lambda value: float(value.split(sep ='$')[-1]))\n",
        "\n",
        "# print the types\n",
        "print(df_coke.dtypes)"
      ],
      "metadata": {
        "id": "RjrStKyxtOfd"
      },
      "execution_count": null,
      "outputs": []
    },
    {
      "cell_type": "markdown",
      "source": [
        "Para visualizar os dados, vamos utilizar o pacote seaborn na versão 0.13.2. A documentação completa por ser encontrada neste https://seaborn.pydata.org/.\n",
        "Todas as bibliotecas necessárias já estão instaladas. O arquivo /data/df_coke.csv contém o resultado da Parte 1 deste exercício, com os dados já filtrados e convertidos para o tipo float.\n",
        "Crie um gráfico de linha (sns.lineplot()) que demonstre a visualização da abertura das ações (coluna 'open') ao longo do tempo.\n",
        "Obs: para visualizar seu gráfico, utilize o comando plt.show()."
      ],
      "metadata": {
        "id": "yQFURLEYtUVA"
      }
    },
    {
      "cell_type": "code",
      "source": [
        "import seaborn as sns\n",
        "import matplotlib.pyplot as plt\n",
        "import pandas as pd\n",
        "\n",
        "df_coke = pd.read_csv('/data/df_coke.csv', index_col=0)\n",
        "\n",
        "fig, axs = plt.subplots(1, figsize=(8, 8))\n",
        "\n",
        "# Insira se código na linha abaixo. Veja a dica para resolver esse exercício\n",
        "plot = sns.lineplot(x= \"date\", y = \"open\", data = df_coke)\n",
        "plot.tick_params(axis='x', labelrotation = 45)\n",
        "plt.show()"
      ],
      "metadata": {
        "id": "MLMFgPwptfFI"
      },
      "execution_count": null,
      "outputs": []
    }
  ]
}