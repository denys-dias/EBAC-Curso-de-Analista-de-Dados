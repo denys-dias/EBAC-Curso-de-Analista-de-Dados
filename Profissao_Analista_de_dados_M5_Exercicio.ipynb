{
  "nbformat": 4,
  "nbformat_minor": 0,
  "metadata": {
    "colab": {
      "provenance": [],
      "collapsed_sections": [
        "RhqmXiHQo-is"
      ],
      "toc_visible": true,
      "include_colab_link": true
    },
    "kernelspec": {
      "name": "python3",
      "display_name": "Python 3"
    }
  },
  "cells": [
    {
      "cell_type": "markdown",
      "metadata": {
        "id": "view-in-github",
        "colab_type": "text"
      },
      "source": [
        "<a href=\"https://colab.research.google.com/github/denys-dias/EBAC-Curso-de-Analista-de-Dados/blob/main/Profissao_Analista_de_dados_M5_Exercicio.ipynb\" target=\"_parent\"><img src=\"https://colab.research.google.com/assets/colab-badge.svg\" alt=\"Open In Colab\"/></a>"
      ]
    },
    {
      "cell_type": "markdown",
      "metadata": {
        "id": "KJqp9AANOCtf"
      },
      "source": [
        "<img src=\"https://raw.githubusercontent.com/andre-marcos-perez/ebac-course-utils/main/media/logo/newebac_logo_black_half.png\" alt=\"ebac-logo\">\n",
        "\n",
        "---\n",
        "\n",
        "# **Módulo** | Python: Programação Funcional\n",
        "Caderno de **Aula**<br>\n",
        "Professor [André Perez](https://www.linkedin.com/in/andremarcosperez/)\n",
        "\n",
        "---"
      ]
    },
    {
      "cell_type": "markdown",
      "source": [
        "Aplique a função map na lista de emprestimos para extrair os valores da chave valor_emprestimos na variável valor_emprestimos_map.\n",
        "Ainda na função map, faça também a conversão de str para float.\n",
        "Tranforme valor_emprestimos_map em lista e armazene na variável valor_emprestimos_lista.\n",
        "Imprima a variável valor_emprestimos_lista."
      ],
      "metadata": {
        "id": "drp2ZvXLmJgB"
      }
    },
    {
      "cell_type": "markdown",
      "source": [
        "Veja abaixo a estrutura do arquivo credito.csv:\n",
        "\n",
        "id_vendedor,valor_emprestimos,quantidade_emprestimos,data\n",
        "104271,448.0,1,20161208\n",
        "21476,826.7,3,20161208\n",
        "87440,313.6,3,20161208\n",
        "15980,-8008.0,6,20161208\n",
        "215906,2212.0,5,20161208\n",
        "33696,2771.3,2,20161208\n",
        "33893,2240.0,3,20161208\n",
        "214946,-4151.0,18,20161208\n",
        "123974,2021.95,2,20161208\n",
        "225870,4039.0,2,20161208\n",
        "\n"
      ],
      "metadata": {
        "id": "zBFZLRpimKWv"
      }
    },
    {
      "cell_type": "code",
      "source": [
        "emprestimos = []\n",
        "with open(file='../../data/credito.csv', mode='r', encoding='utf8') as fp:\n",
        "\tfp.readline() # cabeçalho\n",
        "\tlinha = fp.readline()\n",
        "\twhile linha:\n",
        "\t\tlinha_emprestimo = {}\n",
        "\t\tlinha_elementos = linha.strip().split(sep=',')\n",
        "\t\tlinha_emprestimo['id_vendedor'] = linha_elementos[0]\n",
        "\t\tlinha_emprestimo['valor_emprestimos'] = linha_elementos[1]\n",
        "\t\tlinha_emprestimo['quantidade_emprestimos'] = linha_elementos[2]\n",
        "\t\tlinha_emprestimo['data'] = linha_elementos[3]\n",
        "\t\temprestimos.append(linha_emprestimo)\n",
        "\t\tlinha = fp.readline()\n",
        "\n",
        "# Escreva seu código abaixo\n",
        "\n",
        "valor_emprestimos_map =map(lambda emprestimo: float(emprestimo['valor_emprestimos']), emprestimos)\n",
        "\n",
        "valor_emprestimos_lista = list(valor_emprestimos_map)\n",
        "\n",
        "print(valor_emprestimos_lista)"
      ],
      "metadata": {
        "id": "kW72N4wSmOaO"
      },
      "execution_count": null,
      "outputs": []
    },
    {
      "cell_type": "markdown",
      "source": [
        "Aplique a função filter na lista de valor_emprestimos_lista para filtrar apenas os valores maiores que zero (os valores negativas são erros na base de dados). Atribua o resulta a variável valor_emprestimos_filtrado.\n",
        "Transforme o resultado numa lista e armazene em valor_emprestimos_filtrado_lista.\n",
        "Imprima a variável valor_emprestimos_filtrado_lista."
      ],
      "metadata": {
        "id": "pR_ieV3ymauy"
      }
    },
    {
      "cell_type": "code",
      "source": [
        "valor_emprestimos_filtrado = filter(lambda valor: valor > 0, valor_emprestimos_lista)\n",
        "\n",
        "valor_emprestimos_filtrado_lista = list(valor_emprestimos_filtrado)\n",
        "\n",
        "print(valor_emprestimos_filtrado_lista)"
      ],
      "metadata": {
        "id": "5qt86A2Hmb4F"
      },
      "execution_count": null,
      "outputs": []
    },
    {
      "cell_type": "markdown",
      "source": [
        "Aplique a função reduce para extrair a média aritimética (veja as dicas) dos elementos da lista valor_emprestimos_lista_filtrado e armazene na variavel media_valor_emprestimos.\n",
        "Para calcular o tamanho da lista, isto é, a quantidade de elementos, utilize a função len() e dentro do argumento da função coloque a lista valor_emprestimos_lista_filtrada.\n",
        "Imprima a variável media_valor_emprestimos."
      ],
      "metadata": {
        "id": "9hqw308EmiAi"
      }
    },
    {
      "cell_type": "code",
      "source": [
        "soma_valor_emprestimos = reduce(lambda x, y: x + y, valor_emprestimos_filtrado)\n",
        "\n",
        "media_valor_emprestimos = soma_valor_emprestimos / len(valor_emprestimos_filtrado)\n",
        "\n",
        "print(media_valor_emprestimos)"
      ],
      "metadata": {
        "id": "w5SQv7hHmofL"
      },
      "execution_count": null,
      "outputs": []
    },
    {
      "cell_type": "markdown",
      "source": [
        "Neste exercício você deverá aplicar uma combinação de funções para calcular o desvio padrão amostral da coluna valor_emprestimos.\n",
        "Segundo a Wikipedia, desvio padrão é:\n",
        "é uma medida de dispersão em torno da média populacional de uma variável aleatória. O termo possui também uma acepção específica no campo da estatística, na qual também é chamado de desvio padrão amostral (comumente representado pela letra latina s s) e indica uma medida de dispersão dos dados em torno de média amostral."
      ],
      "metadata": {
        "id": "-EpfgOskmvIz"
      }
    },
    {
      "cell_type": "markdown",
      "source": [
        "Para compreender melhor esse conceito, vamos usar os preços de sorvetes como exemplo:\n",
        "\n",
        "Sorvete 1: R$ 2,00\n",
        "Sorvete 2: R$ 2,50\n",
        "Sorvete 3: R$ 3,00\n",
        "Sorvete 4: R$ 3,50\n",
        "\n",
        "O preço médio desses sorvetes é de R$ 2,75.\n",
        "Agora, se os preços estiverem perto de R$ 2,75, o desvio padrão é pequeno, o que significa que os preços não são muito diferentes uns dos outros.\n",
        "Mas se os preços estiverem longe de R$ 2,75, o desvio padrão é grande, o que indica que alguns sorvetes são bem mais caros ou mais baratos do que a média.\n",
        "A correção de Bessel é como um ajuste que usamos quando estamos olhando apenas para alguns sorvetes em vez de todos os sorvetes do mundo. Isso nos ajuda a ter uma ideia melhor de quanto os preços dos sorvetes podem variar no geral.\n",
        "Para o cálculo, então, partimos do preço médio de todos os sorvetes, que é R$ 2,75.\n",
        "Agora, queremos saber o quanto os preços são diferentes desse valor médio. Para fazer isso, subtraímos o preço médio de cada sorvete e depois elevamos o resultado ao quadrado (para não termos números negativos).\n",
        "\n",
        "Então, teríamos algo assim:\n",
        "(2,00 - 2,75)² = 0,5625\n",
        "(2,50 - 2,75)² = 0,0625\n",
        "(3,00 - 2,75)² = 0,0625\n",
        "(3,50 - 2,75)² = 0,5625\n",
        "\n",
        "Agora, somamos todos esses valores juntos: 0,5625 + 0,0625 + 0,0625 + 0,5625 = 1,25.\n",
        "Finalmente, dividimos esse resultado pelo número de sorvetes que temos (neste caso, 4), menos 1 (por conta da correção de Bessel, explicada anteriormente). Ficaria assim: 1,25 ÷ (4 - 1) = 0,4167.\n",
        "A raiz quadrada de 0,4167 é aproximadamente 0,645. Isso é o nosso desvio padrão, e ele nos diz o quanto os preços dos sorvetes variam em relação ao preço médio de R$ 2,75. Quanto maior o desvio padrão, mais diferentes são os preços dos sorvetes."
      ],
      "metadata": {
        "id": "7zjU-u4wm0Kc"
      }
    },
    {
      "cell_type": "markdown",
      "source": [
        "Em resumo, o cálculo do desvio padrão amostral segue os seguintes passos:\n",
        "Calcule a média aritmética da amostra (conforme exercício anterior).\n",
        "Calcule a diferença entre cada valor e a média. Eleve o resultado ao quadrado (para elimnar valores negativos).\n",
        "Some todos os valores calculados.\n",
        "Divida a soma pelo número de elementos menos 1 e extraia a raiz quadrada do resultado.\n",
        "Atente para as instruções do que deve conter no seu código:\n",
        "A média aritmética já foi calculada anteriormente e está representada na variável media_valor_emprestimos.\n",
        "Utilize a função map para calcular o quadrado das diferenças e armazene na variável quadrado_diferencas. (Passo 2)\n",
        "Utilize a função reduce para calcular a soma dos quadrados das diferenças e armazene na variável soma_quadrado_diferencas. (Passo 3)\n",
        "Cálculo a média aritmética amostral e armazene na variável desvio_padrao_emprestimos. (Passo 4)"
      ],
      "metadata": {
        "id": "cchRDOIknRGL"
      }
    },
    {
      "cell_type": "code",
      "source": [
        "quadrado_diferencas = map(lambda x: float(x**2), valor_emprestimos_filtrado)\n",
        "soma_quadrado_diferencas = reduce(lambda x,y: x+y, valor_emprestimos_filtrado)\n",
        "\n",
        "from math import sqrt\n",
        "\n",
        "subtrair_media_elevado = []\n",
        "soma = 0\n",
        "\n",
        "for x in valor_emprestimos_filtrado:\n",
        "  subtrair_media_elevado.append((x - media_aritmetica) ** 2)\n",
        "\n",
        "for valor in subtrair_media_elevado:\n",
        "  soma += float(valor)\n",
        "\n",
        "desvio_padrao_emprestimos = sqrt(soma / (len(valor_emprestimos_filtrado) - 1))\n",
        "\n",
        "print(desvio_padrao_emprestimos)"
      ],
      "metadata": {
        "id": "LZg-pOIInWwT"
      },
      "execution_count": null,
      "outputs": []
    }
  ]
}