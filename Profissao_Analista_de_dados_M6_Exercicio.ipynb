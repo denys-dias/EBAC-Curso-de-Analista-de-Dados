{
  "nbformat": 4,
  "nbformat_minor": 0,
  "metadata": {
    "colab": {
      "provenance": [],
      "collapsed_sections": [
        "RhqmXiHQo-is"
      ],
      "toc_visible": true,
      "include_colab_link": true
    },
    "kernelspec": {
      "name": "python3",
      "display_name": "Python 3"
    }
  },
  "cells": [
    {
      "cell_type": "markdown",
      "metadata": {
        "id": "view-in-github",
        "colab_type": "text"
      },
      "source": [
        "<a href=\"https://colab.research.google.com/github/denys-dias/EBAC-Curso-de-Analista-de-Dados/blob/main/Profissao_Analista_de_dados_M6_Exercicio.ipynb\" target=\"_parent\"><img src=\"https://colab.research.google.com/assets/colab-badge.svg\" alt=\"Open In Colab\"/></a>"
      ]
    },
    {
      "cell_type": "markdown",
      "metadata": {
        "id": "KJqp9AANOCtf"
      },
      "source": [
        "<img src=\"https://raw.githubusercontent.com/andre-marcos-perez/ebac-course-utils/main/media/logo/newebac_logo_black_half.png\" alt=\"ebac-logo\">\n",
        "\n",
        "---\n",
        "\n",
        "# **Módulo** | Python: Programação Orientada a Objetos\n",
        "Caderno de **Aula**<br>\n",
        "Professor [André Perez](https://www.linkedin.com/in/andremarcosperez/)\n",
        "\n",
        "---"
      ]
    },
    {
      "cell_type": "markdown",
      "source": [
        "Crie a classe ArquivoTexto. Ela deve conter os seguintes atributos:\n",
        "self.arquivo: Atributo do tipo str com o nome do arquivo;\n",
        "self.conteudo: Atributo do tipo list onde cada elemento é uma linha do arquivo;\n",
        "A classe também deve conter o seguinte método:\n",
        "self.extrair_conteudo: Método que realiza a leitura do arquivo e retorna o conteúdo.\n",
        "self.extrair_linha: Método que recebe como parâmetro o número da linha e retorna a linha do conteúdo. Considere a primeira linha como número 1.\n",
        "Veja abaixo o corpo do texto do arquivo .txt:\n",
        "\n",
        "Roda Viva\n",
        "Chico Buarque\n",
        "\n",
        "Tem dias que a gente se sente\n",
        "Como quem partiu ou morreu\n",
        "A gente estancou de repente\n",
        "Ou foi o mundo então que cresceu\n",
        "A gente quer ter voz ativa\n",
        "No nosso destino mandar\n",
        "Mas eis que chega a roda viva\n",
        "E carrega o destino pra lá\n",
        "\n",
        "Roda mundo, roda-gigante\n",
        "Roda moinho, roda pião\n",
        "\n",
        "O tempo rodou num instante\n",
        "Nas voltas do meu coração\n",
        "A gente vai contra a corrente\n",
        "Até não poder resistir\n",
        "Na volta do barco é que sente\n",
        "O quanto deixou de cumprir\n",
        "Faz tempo que a gente cultiva\n",
        "A mais linda roseira que há\n",
        "Mas eis que chega a roda viva\n",
        "E carrega a roseira pra lá\n",
        "\n",
        "Roda mundo, roda-gigante\n",
        "Roda moinho, roda pião"
      ],
      "metadata": {
        "id": "LnEt4bcnootF"
      }
    },
    {
      "cell_type": "code",
      "source": [
        "class ArquivoTexto(object):\n",
        "\tdef __init__(self, arquivo: str):\n",
        "\t\tself.arquivo = arquivo\n",
        "\t\tself.conteudo = self.extrair_conteudo()\n",
        "\n",
        "\tdef extrair_conteudo(self) -> list:\n",
        "\t\t# Para acessar o arquivo você deve utilizar o caminho: \"/data/\"\n",
        "\n",
        "\t\twith open(file='/data/musica.txt', mode='r', encoding='utf8') as arquivo:\n",
        "\t\t\tconteudo = arquivo.readlines()\n",
        "\t\treturn conteudo\n",
        "\n",
        "\tdef extrair_linha(self, numero_linha: int) -> str:\n",
        "\t\treturn self.conteudo[numero_linha-1].strip()\n",
        "musica = ArquivoTexto('musica.txt')\n",
        "\n",
        "print(musica.conteudo)"
      ],
      "metadata": {
        "id": "z1jYYdQRot4_"
      },
      "execution_count": null,
      "outputs": []
    },
    {
      "cell_type": "markdown",
      "source": [
        "Crie a classe `ArquivoCSV`. Ela deve extender (herdar) a classe ArquivoTexto para reaproveitar os seus atributos (self.arquivo e self.conteudo). Além disso, adicione o seguinte atributo:\n",
        "self.colunas: Atributo do tipo `list` onde os elementos são os nome das colunas;\n",
        "A classe também deve conter o seguinte método:\n",
        "self.extrair_nome_colunas: Método que retorna o nome das colunas do arquivo.\n",
        "extrair_coluna: Método que recebe como parâmetro o indice da coluna e retorna o valor em questão. Considere a primeira coluna como número 1.\n",
        "Veja abaixo a estrutura do arquivo csv:\n",
        "\n",
        "id,valor_venda,valor_manutencao,portas,pessoas,porta_malas\n",
        "1,vhigh,med,2,2,small\n",
        "2,med,vhigh,2,2,small\n",
        "3,low,vhigh,2,2,small\n",
        "4,low,high,2,2,small\n",
        "5,low,high,2,2,small\n",
        "6,low,high,4,4,big\n",
        "7,low,high,4,4,big\n",
        "8,low,med,2,2,small\n",
        "9,low,med,2,2,small\n",
        "10,low,med,2,2,small\n",
        "11,low,med,4,4,big\n",
        "12,low,low,2,2,small\n",
        "13,low,low,4,4,small\n",
        "14,low,low,4,4,med\n",
        "\n"
      ],
      "metadata": {
        "id": "0Yqpnr2Lo7c0"
      }
    },
    {
      "cell_type": "code",
      "source": [
        "import sys\n",
        "sys.path.insert(0, '/data')\n",
        "from arquivo_texto import ArquivoTexto\n",
        "\n",
        "class ArquivoCSV(ArquivoTexto):\n",
        "\n",
        "\tdef __init__(self, arquivo: str):\n",
        "\t\tsuper().__init__(arquivo=arquivo)\n",
        "\t\tself.colunas = self.extrair_nome_colunas()\n",
        "\n",
        "\tdef extrair_nome_colunas(self):\n",
        "\t\treturn self.conteudo[0].strip().split(',')\n",
        "\n",
        "\tdef extrair_coluna(self, indice_coluna: int):\n",
        "\t\tcolunas = [linha.strip().split(',') for linha in self.conteudo]\n",
        "\t\tresultado = [coluna[indice_coluna-1] for coluna in colunas[1:]]\n",
        "\t\treturn resultado\n",
        "\n",
        "\tdef extrair_coluna_da_linha(self, numero_linha: int, numero_coluna: int):\n",
        "\t\tlinha = self.extrair_linha(numero_linha)\n",
        "\t\tresultado = linha.split(',')[numero_coluna-1]\n",
        "\t\treturn resultado"
      ],
      "metadata": {
        "id": "S76D9gnEo8eq"
      },
      "execution_count": null,
      "outputs": []
    }
  ]
}