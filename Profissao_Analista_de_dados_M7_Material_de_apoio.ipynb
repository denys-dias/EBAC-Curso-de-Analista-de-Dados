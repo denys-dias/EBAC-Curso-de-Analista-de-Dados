{
  "nbformat": 4,
  "nbformat_minor": 0,
  "metadata": {
    "colab": {
      "provenance": [],
      "collapsed_sections": [
        "RhqmXiHQo-is"
      ],
      "toc_visible": true,
      "include_colab_link": true
    },
    "kernelspec": {
      "name": "python3",
      "display_name": "Python 3"
    }
  },
  "cells": [
    {
      "cell_type": "markdown",
      "metadata": {
        "id": "view-in-github",
        "colab_type": "text"
      },
      "source": [
        "<a href=\"https://colab.research.google.com/github/denys-dias/EBAC-Curso-de-Analista-de-Dados/blob/main/Profissao_Analista_de_dados_M7_Material_de_apoio.ipynb\" target=\"_parent\"><img src=\"https://colab.research.google.com/assets/colab-badge.svg\" alt=\"Open In Colab\"/></a>"
      ]
    },
    {
      "cell_type": "markdown",
      "metadata": {
        "id": "KJqp9AANOCtf"
      },
      "source": [
        "<img src=\"https://raw.githubusercontent.com/andre-marcos-perez/ebac-course-utils/main/media/logo/newebac_logo_black_half.png\" alt=\"ebac-logo\">\n",
        "\n",
        "---\n",
        "\n",
        "# **Módulo** | Python: Tratamento de Erros\n",
        "Caderno de **Aula**<br>\n",
        "Professor [André Perez](https://www.linkedin.com/in/andremarcosperez/)\n",
        "\n",
        "---"
      ]
    },
    {
      "cell_type": "markdown",
      "source": [
        "Identifique o erro de sintaxe nos trechos de código abaixo e corrija-os para que o trecho de código funcione.\n",
        "\n",
        "Execute o código inicial para ver a mensagem de erro. Altere o mínimo necessário para deixar o código funcionando."
      ],
      "metadata": {
        "id": "5p7-esMCqC7a"
      }
    },
    {
      "cell_type": "code",
      "source": [
        "credito = {'123': 750, '456': 812, '789': 980}\n",
        "\n",
        "for chave, valor in credito.items():\n",
        "\tprint(f'Para o documento {chave}, o valor do escore de crédito é {valor}.')# o erro de sintaxe estava nas (aspas)"
      ],
      "metadata": {
        "colab": {
          "base_uri": "https://localhost:8080/"
        },
        "id": "6I6PJ4IjqDvP",
        "outputId": "d50af145-f0d4-4610-96c4-1bfdbff27001"
      },
      "execution_count": 1,
      "outputs": [
        {
          "output_type": "stream",
          "name": "stdout",
          "text": [
            "Para o documento 123, o valor do escore de crédito é 750.\n",
            "Para o documento 456, o valor do escore de crédito é 812.\n",
            "Para o documento 789, o valor do escore de crédito é 980.\n"
          ]
        }
      ]
    },
    {
      "cell_type": "markdown",
      "source": [
        "Identifique o erro de sintaxe nos trechos de código abaixo e corrija-os para que o trecho de código funcione.\n",
        "Execute o código inicial para ver a mensagem de erro. Altere o mínimo necessário para deixar o código funcionando."
      ],
      "metadata": {
        "id": "b_LILFhUqLsB"
      }
    },
    {
      "cell_type": "code",
      "source": [
        "def pi_func() -> float:# O erro está na seta ('-->' não pode ser dois traços, apenas um)\n",
        "    return 3.14159265359\n",
        "\n",
        "pi_var = pi_func()\n",
        "print(pi_var)"
      ],
      "metadata": {
        "colab": {
          "base_uri": "https://localhost:8080/"
        },
        "id": "Yao2-n_kqMpA",
        "outputId": "ee3ae713-4fa8-4edd-a22b-1c98731c953b"
      },
      "execution_count": 2,
      "outputs": [
        {
          "output_type": "stream",
          "name": "stdout",
          "text": [
            "3.14159265359\n"
          ]
        }
      ]
    },
    {
      "cell_type": "markdown",
      "source": [
        "Identifique o erro de sintaxe nos trechos de código abaixo e corrija-os para que o trecho de código funcione.\n",
        "Execute o código inicial para ver a mensagem de erro. Altere o mínimo necessário para deixar o código funcionando."
      ],
      "metadata": {
        "id": "od6TedY3qUtS"
      }
    },
    {
      "cell_type": "code",
      "source": [
        "emails = ['andre.perez@gmail.com', 'andre.perez@live.com', 'andre.perez@yahoo.com']\n",
        "provedor_da_google = lambda email: 'gmail' in email\n",
        "\n",
        "emails_google = filter(provedor_da_google, emails)\n",
        "\n",
        "print(list(emails_google))"
      ],
      "metadata": {
        "colab": {
          "base_uri": "https://localhost:8080/"
        },
        "id": "wjwRcXt-qVrh",
        "outputId": "18c37878-a079-4d5b-b357-c445ff1d1c4d"
      },
      "execution_count": 3,
      "outputs": [
        {
          "output_type": "stream",
          "name": "stdout",
          "text": [
            "['andre.perez@gmail.com']\n"
          ]
        }
      ]
    },
    {
      "cell_type": "markdown",
      "source": [
        "O código abaixo deve calcular o total emprestado por cada vendedor mas está \"estourando\" a exceção ValueError devido a um erro no conjunto de dados. Utilize a estrutura try-except para garantir que o código seja executado com sucesso.\n",
        "Identique o bloco que código que pode gerar a exceção e utilize try e except de modo que a operação que pode causar o problema seja colocada dentro do bloco try, e o código que trata a exceção seja escrito dentro do bloco except.\n",
        "Trate a Exception e armazene em uma variável chamada error.\n",
        "Dentro do except, utilize o método replace() para remover as aspas do conjunto de dados linha_elementos[1].\n",
        "Obs: Através do replace() para remover um caractere, o método vai substituir cada caractere por vazio.\n",
        "O resultado final deve ser a impressão da seguinte lista:\n",
        "\n",
        "{'104271': 448.0}\n",
        "{'21476': 2480.1000000000004}\n",
        "{'87440': 940.8000000000001}\n",
        "{'15980': 4848.0}\n",
        "{'215906': 11060.0}\n",
        "{'33696': 5542.6}\n",
        "{'33893': 6720.0}\n",
        "{'214946': 74718.0}\n",
        "{'123974': 4043.9}\n",
        "{'225870': 8078.0}\n"
      ],
      "metadata": {
        "id": "CFBNZpEXqpeA"
      }
    },
    {
      "cell_type": "code",
      "source": [
        "def valor_total_emprestimo(valor: float, quantidade: int) -> float:\n",
        "\treturn valor * quantidade\n",
        "\n",
        "emprestimos = []\n",
        "\n",
        "with open(file='/data/credito.csv', mode='r', encoding='utf8') as fp:\n",
        "\tfp.readline() # cabeçalho\n",
        "\tlinha = fp.readline()\n",
        "\twhile linha:\n",
        "\t\ttry:\n",
        "\n",
        "\t\t\tlinha_emprestimo = {}\n",
        "\t\t\tlinha_elementos = linha.strip().split(sep=',')\n",
        "\t\t\tlinha_emprestimo['id_vendedor'] = linha_elementos[0]\n",
        "\t\t\tlinha_emprestimo['valor_emprestimos'] = float(linha_elementos[1])\n",
        "\t\t\tlinha_emprestimo['quantidade_emprestimos'] = int(linha_elementos[2])\n",
        "\t\t\tlinha_emprestimo['data'] = linha_elementos[3]\n",
        "\t\texcept ValueError as e:\n",
        "\t\t\terror = e\n",
        "\t\t\tlinha_elementos[1]=linha_elementos[1].replace('\"','')\n",
        "\t\t\tlinha_emprestimo['valor_emprestimos']=float(linha_elementos[1])\n",
        "\t\t\tlinha_emprestimo['quantidade_emprestimos']=int(linha_elementos[2])\n",
        "\t\t\tlinha_emprestimo['data'] = linha_elementos[3]\n",
        "\t\temprestimos.append(linha_emprestimo)\n",
        "\t\tlinha = fp.readline()\n",
        "\n",
        "emprestimos_total = []\n",
        "for emprestimo in emprestimos:\n",
        "\tvalor_total = valor_total_emprestimo(valor=emprestimo['valor_emprestimos'], quantidade=emprestimo['quantidade_emprestimos'])\n",
        "\temprestimos_total.append({emprestimo['id_vendedor']: valor_total})\n",
        "\n",
        "for emprestimo_total in emprestimos_total:\n",
        "\tprint(emprestimo_total)"
      ],
      "metadata": {
        "id": "6AkAV3NCqyoD"
      },
      "execution_count": null,
      "outputs": []
    }
  ]
}